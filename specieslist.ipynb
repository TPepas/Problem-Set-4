{
 "cells": [
  {
   "cell_type": "code",
   "execution_count": 11,
   "metadata": {},
   "outputs": [
    {
     "name": "stdin",
     "output_type": "stream",
     "text": [
      "Enter a genus:  puma\n"
     ]
    },
    {
     "name": "stdout",
     "output_type": "stream",
     "text": [
      "Members of genus Puma: Puma yagouaroundi, Puma concolor\n"
     ]
    }
   ],
   "source": [
    "import urllib.request, urllib.parse, urllib.error\n",
    "import json\n",
    "\n",
    "while True:\n",
    "    species = []\n",
    "    genus = input('Enter a genus: ')\n",
    "    if len(genus) < 1: break\n",
    "\n",
    "    apiurl = 'https://api.gbif.org/v1/species/suggest?datasetKey=6b6b2923-0a10-4708-b170-5b7c611aceef&q='\n",
    "\n",
    "    url = apiurl + genus\n",
    "    \n",
    "    uh = urllib.request.urlopen(url)\n",
    "    data = uh.read().decode()\n",
    "\n",
    "    try:\n",
    "        js = json.loads(data)\n",
    "    except:\n",
    "        js = None\n",
    "    \n",
    "    for item in js:\n",
    "        try:\n",
    "            if str.lower(item['genus']) == str.lower(genus):\n",
    "                if item['rank'] == 'SPECIES':\n",
    "                        x = item['species']\n",
    "                        if len(x.strip().split(\" \")) == 2:\n",
    "                            species.append(x)\n",
    "        except:\n",
    "            continue\n",
    "    \n",
    "    print(\"Members of genus \" + genus.capitalize() + \":\", ', '.join(species))\n",
    "    break"
   ]
  },
  {
   "cell_type": "code",
   "execution_count": null,
   "metadata": {},
   "outputs": [
    {
     "name": "stdin",
     "output_type": "stream",
     "text": [
      "Enter a genus:  puma\n"
     ]
    },
    {
     "name": "stdout",
     "output_type": "stream",
     "text": [
      "https://api.gbif.org/v1/species/suggest?datasetKey=6b6b2923-0a10-4708-b170-5b7c611aceef&q=puma\n",
      "Retrieved 13893 characters\n",
      "Puma yagouaroundi\n",
      "Puma concolor\n",
      "Puma concolor\n",
      "Puma concolor\n"
     ]
    },
    {
     "name": "stdin",
     "output_type": "stream",
     "text": [
      "Enter a genus:  \n"
     ]
    }
   ],
   "source": [
    "import urllib.request, urllib.parse, urllib.error\n",
    "import json\n",
    "\n",
    "species = []\n",
    "\n",
    "while True:\n",
    "    genus = input('Enter a genus: ')\n",
    "    if len(genus) < 1: break\n",
    "\n",
    "    apiurl = 'https://api.gbif.org/v1/species/suggest?datasetKey=6b6b2923-0a10-4708-b170-5b7c611aceef&q='\n",
    "\n",
    "    url = apiurl + genus\n",
    "    print(url)\n",
    "    \n",
    "    uh = urllib.request.urlopen(url)\n",
    "    data = uh.read().decode()\n",
    "    print('Retrieved', len(data), 'characters')\n",
    "    for item in js:\n",
    "        try:\n",
    "                if item['genus'] == 'Puma':\n",
    "                    try:\n",
    "                        print(item['species'])\n",
    "                    except:\n",
    "                        continue\n",
    "        except:\n",
    "            continue\n",
    "                \n",
    "    "
   ]
  },
  {
   "cell_type": "code",
   "execution_count": null,
   "metadata": {},
   "outputs": [],
   "source": []
  }
 ],
 "metadata": {
  "kernelspec": {
   "display_name": "UFRC Python-3.10",
   "language": "python",
   "name": "python3-3.10-ufrc"
  },
  "language_info": {
   "codemirror_mode": {
    "name": "ipython",
    "version": 3
   },
   "file_extension": ".py",
   "mimetype": "text/x-python",
   "name": "python",
   "nbconvert_exporter": "python",
   "pygments_lexer": "ipython3",
   "version": "3.10.5"
  }
 },
 "nbformat": 4,
 "nbformat_minor": 4
}
